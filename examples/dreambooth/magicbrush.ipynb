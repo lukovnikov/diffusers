{
 "cells": [
  {
   "cell_type": "code",
   "execution_count": 1,
   "id": "196ceae6",
   "metadata": {},
   "outputs": [
    {
     "name": "stderr",
     "output_type": "stream",
     "text": [
      "/home/lukovdg1/.conda/envs/dreambooth/lib/python3.8/site-packages/tqdm/auto.py:22: TqdmWarning: IProgress not found. Please update jupyter and ipywidgets. See https://ipywidgets.readthedocs.io/en/stable/user_install.html\n",
      "  from .autonotebook import tqdm as notebook_tqdm\n"
     ]
    }
   ],
   "source": [
    "from psd_tools import PSDImage\n",
    "import torch\n",
    "import numpy as np\n",
    "from PIL import Image\n",
    "from diffusers.pipelines.stable_diffusion.pipeline_stable_diffusion_layers2img import unpack_layers\n",
    "import json"
   ]
  },
  {
   "cell_type": "code",
   "execution_count": 2,
   "id": "d23754b2",
   "metadata": {},
   "outputs": [],
   "source": [
    "def image_grid(imgs, cols=None, padding=2):\n",
    "    cols = len(imgs) if cols is None else cols\n",
    "    w, h = imgs[0].size\n",
    "    grid_w = w * cols + padding * (cols - 1)\n",
    "    rows = int(np.ceil(len(imgs) / cols))\n",
    "    grid_h = h * rows + padding * (rows - 1)\n",
    "    grid = Image.new('RGB', (grid_w, grid_h), (127, 127, 127))\n",
    "\n",
    "    for i, img in enumerate(imgs):\n",
    "        x = i % cols * (w + padding)\n",
    "        y = i // cols * (h + padding)\n",
    "        grid.paste(img, box=(x, y))\n",
    "    return grid"
   ]
  },
  {
   "cell_type": "code",
   "execution_count": 3,
   "id": "774b76f6",
   "metadata": {},
   "outputs": [],
   "source": [
    "def tensor_to_pil(x, resolution=64):\n",
    "    ar = x.shape[1] / x.shape[0]\n",
    "    img = Image.fromarray((x * 255).byte().numpy())\n",
    "    resized = img.resize((resolution, int(resolution*ar)), Image.Resampling.NEAREST)\n",
    "    return resized"
   ]
  },
  {
   "cell_type": "code",
   "execution_count": 4,
   "id": "a0590bd7",
   "metadata": {},
   "outputs": [],
   "source": [
    "img = PSDImage.open(\"lion.psd\")"
   ]
  },
  {
   "cell_type": "code",
   "execution_count": 5,
   "id": "3eb608ee",
   "metadata": {},
   "outputs": [],
   "source": [
    "spec = unpack_layers(img)"
   ]
  },
  {
   "cell_type": "code",
   "execution_count": null,
   "id": "603e1314",
   "metadata": {},
   "outputs": [],
   "source": []
  },
  {
   "cell_type": "code",
   "execution_count": 6,
   "id": "da3fbc9f",
   "metadata": {
    "scrolled": false
   },
   "outputs": [
    {
     "name": "stdout",
     "output_type": "stream",
     "text": [
      "global prompt: art by greg rutkowski, wlop\n",
      "global negative prompt: deformed, disfigured, ugly eyes, deformed eyes\n",
      "Layer 0\n",
      "prompt: background is a beautiful green forest\n",
      "negative prompt: \n"
     ]
    },
    {
     "data": {
      "image/png": "[encoded data removed]",
      "text/plain": [
       "<PIL.Image.Image image mode=RGB size=518x128>"
      ]
     },
     "metadata": {},
     "output_type": "display_data"
    },
    {
     "name": "stdout",
     "output_type": "stream",
     "text": [
      "Layer 1\n",
      "prompt: a photo of a lion\n",
      "negative prompt: \n"
     ]
    },
    {
     "data": {
      "image/png": "[encoded data removed]",
      "text/plain": [
       "<PIL.Image.Image image mode=RGB size=518x128>"
      ]
     },
     "metadata": {},
     "output_type": "display_data"
    },
    {
     "name": "stdout",
     "output_type": "stream",
     "text": [
      "Layer 2\n",
      "prompt: [P] lion’s head\n",
      "negative prompt: \n"
     ]
    },
    {
     "data": {
      "image/png": "[encoded data removed]",
      "text/plain": [
       "<PIL.Image.Image image mode=RGB size=518x128>"
      ]
     },
     "metadata": {},
     "output_type": "display_data"
    }
   ],
   "source": [
    "print(\"global prompt:\", spec[\"global\"][\"pos\"])\n",
    "print(\"global negative prompt:\", spec[\"global\"][\"neg\"])\n",
    "for i, layer in enumerate(spec[\"layers\"]):\n",
    "    print(f\"Layer {i}\")\n",
    "    gridimages = []\n",
    "    for k in list(layer.keys()):\n",
    "        v = layer[k]\n",
    "        if k == \"pos\":\n",
    "            print(\"prompt:\", v)\n",
    "        elif k == \"neg\":\n",
    "            print(\"negative prompt:\", v)\n",
    "        elif k == \"mode\":\n",
    "            pass\n",
    "        elif k == (512, 512):\n",
    "            pass\n",
    "        else:\n",
    "            gridimages.append(tensor_to_pil(v, 128))\n",
    "    display(image_grid(gridimages))"
   ]
  },
  {
   "cell_type": "code",
   "execution_count": null,
   "id": "20ef58d1",
   "metadata": {},
   "outputs": [],
   "source": []
  }
 ],
 "metadata": {
  "kernelspec": {
   "display_name": "Python 3 (ipykernel)",
   "language": "python",
   "name": "python3"
  },
  "language_info": {
   "codemirror_mode": {
    "name": "ipython",
    "version": 3
   },
   "file_extension": ".py",
   "mimetype": "text/x-python",
   "name": "python",
   "nbconvert_exporter": "python",
   "pygments_lexer": "ipython3",
   "version": "3.8.15"
  }
 },
 "nbformat": 4,
 "nbformat_minor": 5
}
