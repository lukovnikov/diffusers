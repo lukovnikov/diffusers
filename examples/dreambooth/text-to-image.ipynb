{
 "cells": [
  {
   "cell_type": "code",
   "execution_count": 1,
   "id": "4b2b2d0b",
   "metadata": {},
   "outputs": [
    {
     "name": "stderr",
     "output_type": "stream",
     "text": [
      "/home/lukovdg1/.conda/envs/dreambooth/lib/python3.8/site-packages/tqdm/auto.py:22: TqdmWarning: IProgress not found. Please update jupyter and ipywidgets. See https://ipywidgets.readthedocs.io/en/stable/user_install.html\n",
      "  from .autonotebook import tqdm as notebook_tqdm\n"
     ]
    }
   ],
   "source": [
    "import torch\n",
    "from diffusers import StableDiffusionPipeline, DPMSolverMultistepScheduler\n",
    "from diffusers.pipelines.stable_diffusion.pipeline_stable_diffusion_layers2img import StableDiffusionPipelineLayers2ImageV1\n",
    "from PIL import Image"
   ]
  },
  {
   "cell_type": "code",
   "execution_count": 2,
   "id": "79143675",
   "metadata": {},
   "outputs": [],
   "source": [
    "class Text2Image():\n",
    "    model_to_name = {\n",
    "        \"SDV15\": \"runwayml/stable-diffusion-v1-5\",\n",
    "        \"stablediffusion\": \"runwayml/stable-diffusion-v1-5\",\n",
    "        \"stable\": \"runwayml/stable-diffusion-v1-5\",\n",
    "        \"RVV13\": \"realisticVisionV13\",\n",
    "        \"realistic\": \"realisticVisionV13\",\n",
    "        \"realisticvision\": \"realisticVisionV13\",\n",
    "        \"real\": \"realisticVisionV13\",\n",
    "        \"dream\": \"Lykon/DreamShaper\",\n",
    "        \"dreamshaper\": \"Lykon/DreamShaper\",\n",
    "    }\n",
    "    \n",
    "    def __init__(self, model=\"SDV15\", scheduler=\"default\", imgperprompt=4, steps=32, device=None):\n",
    "        super().__init__()\n",
    "        self.scheduler_name = scheduler\n",
    "        if device is None:\n",
    "            self.device = torch.device(\"cuda\", 0) if torch.cuda.is_available() else torch.device(\"cpu\")\n",
    "        else:\n",
    "            self.device = device\n",
    "        self.load_pipe(model, scheduler=self.scheduler_name, device=self.device)\n",
    "        self.imgperprompt = imgperprompt\n",
    "        self.steps = steps\n",
    "    \n",
    "    def load_pipe(self, model=\"SDV15\", scheduler=\"original\", device=None):\n",
    "        self.pipe = StableDiffusionPipeline.from_pretrained(self.model_to_name[model])\n",
    "        self.pipe = self.pipe.to(device)\n",
    "        if scheduler == \"original\" or scheduler is None or scheduler == \"default\":\n",
    "            pass\n",
    "        elif scheduler == \"dpm\":\n",
    "            oldsched = self.pipe.scheduler\n",
    "            self.pipe.scheduler = DPMSolverMultistepScheduler.from_config(self.pipe.scheduler.config)\n",
    "            assert torch.allclose(oldsched.alphas_cumprod, self.pipe.scheduler.alphas_cumprod)\n",
    "        \n",
    "    def image_grid(self, imgs, rows, cols):\n",
    "        assert len(imgs) == rows * cols\n",
    "\n",
    "        w, h = imgs[0].size\n",
    "        grid = Image.new('RGB', size=(cols * w, rows * h))\n",
    "        grid_w, grid_h = grid.size\n",
    "\n",
    "        for i, img in enumerate(imgs):\n",
    "            grid.paste(img, box=(i % cols * w, i // cols * h))\n",
    "        return grid\n",
    "    \n",
    "    def generate(self, prompt, negprompt=\"\", imgperprompt=None, steps=None, seed=-1, cfg=7.5):\n",
    "        imgperprompt = self.imgperprompt if imgperprompt is None else imgperprompt\n",
    "        steps = self.steps if steps is None else steps\n",
    "        generator = torch.Generator(device=self.device)\n",
    "        generator.manual_seed(seed)\n",
    "        with torch.autocast(\"cuda\"):\n",
    "            images = self.pipe(prompt, negative_prompt=negprompt, num_inference_steps=steps, guidance_scale=cfg, eta=0., \n",
    "                          generator=generator, num_images_per_prompt=imgperprompt, output_type=\"pil\").images\n",
    "        return images\n",
    "        "
   ]
  },
  {
   "cell_type": "code",
   "execution_count": 3,
   "id": "64d7895b",
   "metadata": {},
   "outputs": [
    {
     "name": "stderr",
     "output_type": "stream",
     "text": [
      "Fetching 15 files: 100%|███████████████████████████████████████████████████████████████████████████████████████████████████████████████████████████████████████████████████████████████████████████████████████████████████| 15/15 [00:00<00:00, 12117.60it/s]\n",
      "The config attributes {'scaling_factor': 0.18215} were passed to AutoencoderKL, but are not expected and will be ignored. Please verify your config.json configuration file.\n",
      "The config attributes {'class_embed_type': None, 'mid_block_type': 'UNetMidBlock2DCrossAttn', 'resnet_time_scale_shift': 'default', 'upcast_attention': False} were passed to UNet2DConditionModel, but are not expected and will be ignored. Please verify your config.json configuration file.\n"
     ]
    }
   ],
   "source": [
    "tti = Text2Image(\"dream\", scheduler=\"dpm\")"
   ]
  },
  {
   "cell_type": "code",
   "execution_count": 4,
   "id": "e844745d",
   "metadata": {},
   "outputs": [
    {
     "name": "stderr",
     "output_type": "stream",
     "text": [
      "100%|█████████████████████████████████████████████████████████████████████████████████████████████████████████████████████████████████████████████████████████████████████████████████████████████████████████████████████████| 32/32 [00:10<00:00,  3.10it/s]\n"
     ]
    },
    {
     "ename": "NameError",
     "evalue": "name 'image_grid' is not defined",
     "output_type": "error",
     "traceback": [
      "\u001b[0;31m---------------------------------------------------------------------------\u001b[0m",
      "\u001b[0;31mNameError\u001b[0m                                 Traceback (most recent call last)",
      "Cell \u001b[0;32mIn [4], line 5\u001b[0m\n\u001b[1;32m      2\u001b[0m negprompt \u001b[38;5;241m=\u001b[39m \u001b[38;5;124m\"\u001b[39m\u001b[38;5;124mdisfigured, deformed iris, nude, nsfw, watermark, istock\u001b[39m\u001b[38;5;124m\"\u001b[39m\n\u001b[1;32m      4\u001b[0m images \u001b[38;5;241m=\u001b[39m tti\u001b[38;5;241m.\u001b[39mgenerate(prompt, negprompt)\n\u001b[0;32m----> 5\u001b[0m display(\u001b[43mimage_grid\u001b[49m(images, \u001b[38;5;241m1\u001b[39m, \u001b[38;5;28mlen\u001b[39m(images)))\n",
      "\u001b[0;31mNameError\u001b[0m: name 'image_grid' is not defined"
     ]
    }
   ],
   "source": [
    "prompt = \"a photo of one red tiger eye, close-up, detailed fur\"\n",
    "negprompt = \"disfigured, deformed iris, nude, nsfw, watermark, istock\"\n",
    "\n",
    "images = tti.generate(prompt, negprompt)\n",
    "display(image_grid(images, 1, len(images)))\n",
    "\n"
   ]
  },
  {
   "cell_type": "code",
   "execution_count": null,
   "id": "7e7a756f",
   "metadata": {},
   "outputs": [],
   "source": [
    "\n"
   ]
  },
  {
   "cell_type": "code",
   "execution_count": null,
   "id": "71093492",
   "metadata": {},
   "outputs": [],
   "source": []
  }
 ],
 "metadata": {
  "kernelspec": {
   "display_name": "Python 3 (ipykernel)",
   "language": "python",
   "name": "python3"
  },
  "language_info": {
   "codemirror_mode": {
    "name": "ipython",
    "version": 3
   },
   "file_extension": ".py",
   "mimetype": "text/x-python",
   "name": "python",
   "nbconvert_exporter": "python",
   "pygments_lexer": "ipython3",
   "version": "3.8.15"
  }
 },
 "nbformat": 4,
 "nbformat_minor": 5
}
